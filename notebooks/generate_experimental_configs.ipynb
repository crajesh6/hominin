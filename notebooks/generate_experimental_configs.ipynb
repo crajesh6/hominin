{
 "cells": [
  {
   "cell_type": "code",
   "execution_count": 1,
   "id": "eae98b26",
   "metadata": {},
   "outputs": [],
   "source": [
    "import os, h5py\n",
    "import yaml\n",
    "import pandas as pd\n",
    "import numpy as np\n",
    "from pathlib import Path\n",
    "\n",
    "import sh"
   ]
  },
  {
   "cell_type": "code",
   "execution_count": null,
   "id": "27b1f2e0-4def-4796-9558-84c9fa45328f",
   "metadata": {},
   "outputs": [],
   "source": []
  },
  {
   "cell_type": "code",
   "execution_count": null,
   "id": "18c4ba50-fa90-424c-891e-8646188b9b9f",
   "metadata": {},
   "outputs": [],
   "source": []
  },
  {
   "cell_type": "code",
   "execution_count": null,
   "id": "b01c81a4-3331-474e-acea-f2ab2c3f5447",
   "metadata": {},
   "outputs": [],
   "source": []
  },
  {
   "cell_type": "code",
   "execution_count": 6,
   "id": "688db897",
   "metadata": {},
   "outputs": [
    {
     "name": "stdout",
     "output_type": "stream",
     "text": [
      "900\n"
     ]
    }
   ],
   "source": [
    "conv_layer_types = ['standard'] # implemented \n",
    "motif_pooling_types = ['se_block', 'softconv', None] # implemented (do I need to have None?)\n",
    "spatial_pooling_types = ['attention_pool', 'max_pool',] # implemented\n",
    "base_models = ['nam', 'cam'] # implemented\n",
    "activations = ['relu', 'elu', 'exponential'] # implemented\n",
    "pool_sizes = [0, 2, 4, 10, 25] # implemented\n",
    "num_trials = 5\n",
    "save = False\n",
    "dataset_name = 'hepg2' # implemented\n",
    "smoke_test = True\n",
    "log_wandb = False\n",
    "\n",
    "configs = []\n",
    "\n",
    "if save: \n",
    "    base_dir = \"/home/chandana/projects/hominin/experiments/lenti-mpra\"\n",
    "    sh.rm(f\"{base_dir}/commands.txt\")\n",
    "\n",
    "    Path(base_dir).mkdir(parents=True, exist_ok=True)\n",
    "    output_file = open(f\"{base_dir}/commands.txt\", \"a\")\n",
    "\n",
    "count = 0\n",
    "for conv_layer_type in conv_layer_types:\n",
    "    for motif_pooling_type in motif_pooling_types:\n",
    "        for spatial_pooling_type in spatial_pooling_types:\n",
    "            for base_model in base_models:\n",
    "                for activation in activations:\n",
    "                    for pool_size in pool_sizes:\n",
    "                        for trial in range(num_trials):\n",
    "                            \n",
    "                            count += 1\n",
    "\n",
    "                            config = {\n",
    "                                'base_model': base_model,\n",
    "                                'conv1_activation': activation,\n",
    "                                'conv1_batchnorm': True,\n",
    "                                'motif_pooling_type': motif_pooling_type,\n",
    "                                'conv1_dropout': 0.1,\n",
    "                                'conv1_filters': 128,\n",
    "                                'conv1_kernel_size': 19,\n",
    "                                'spatial_pooling_type': spatial_pooling_type,\n",
    "                                'conv1_pool_size': pool_size,\n",
    "                                'conv_layer_type': conv_layer_type,\n",
    "                                'dense_activation': 'relu',\n",
    "                                'dense_batchnorm': True,\n",
    "                                'dense_dropout': [0.3, 0.3],\n",
    "                                'dense_units': [256, 256],\n",
    "                                'input_shape': (230, 4),\n",
    "                                'mha_d_model': 96,\n",
    "                                'mha_dropout': 0.2,\n",
    "                                'mha_head_type': 'pooled',\n",
    "                                'mha_heads': 8,\n",
    "                                'mha_layernorm': True,\n",
    "                                'output_activation': 'linear',\n",
    "                                'output_shape': 1\n",
    "                            }\n",
    "\n",
    "                            configs += [config]\n",
    "                            \n",
    "                            if save:\n",
    "\n",
    "                                save_dir =  f\"{base_dir}/\"\\\n",
    "                                            f\"{base_model}/\"\\\n",
    "                                            f\"{conv_layer_type}/\"\\\n",
    "                                            f\"{motif_pooling_type}/\"\\\n",
    "                                            f\"{spatial_pooling_type}/\"\\\n",
    "                                            f\"pool_size={pool_size}/\"\\\n",
    "                                            f\"{activation}/\"\\\n",
    "                                            f\"trial_{trial}\"\n",
    "                                Path(save_dir).mkdir(parents=True, exist_ok=True)\n",
    "\n",
    "                                with open(os.path.join(save_dir, 'config.yaml'), 'w') as file:\n",
    "                                    documents = yaml.dump(config, file)\n",
    "\n",
    "\n",
    "                                sh.echo(\"python execute_hominin.py\",  \\\n",
    "                                f\"--config_file={save_dir}/config.yaml\", \\\n",
    "                                f\"--dataset_name={dataset_name}\", \\\n",
    "                                f\"--smoke_test={smoke_test} \", \\\n",
    "                                f\"--log_wandb={log_wandb}\", \\\n",
    "                                f\"--gpu=None\", _out=output_file)\n",
    "print(count)"
   ]
  },
  {
   "cell_type": "code",
   "execution_count": 3,
   "id": "7b994f5b",
   "metadata": {},
   "outputs": [
    {
     "data": {
      "text/plain": [
       "(450.0, 450.0, 900.0)"
      ]
     },
     "execution_count": 3,
     "metadata": {},
     "output_type": "execute_result"
    }
   ],
   "source": [
    "# split between comet (0.25), citra (0.25), and elzar (0.5)\n",
    "\n",
    "count * (0.25), count * (0.25), count * (0.5)"
   ]
  },
  {
   "cell_type": "code",
   "execution_count": null,
   "id": "4a02a2fc",
   "metadata": {},
   "outputs": [],
   "source": []
  },
  {
   "cell_type": "code",
   "execution_count": null,
   "id": "0de18e69",
   "metadata": {},
   "outputs": [],
   "source": []
  }
 ],
 "metadata": {
  "kernelspec": {
   "display_name": "Python 3 (ipykernel)",
   "language": "python",
   "name": "python3"
  },
  "language_info": {
   "codemirror_mode": {
    "name": "ipython",
    "version": 3
   },
   "file_extension": ".py",
   "mimetype": "text/x-python",
   "name": "python",
   "nbconvert_exporter": "python",
   "pygments_lexer": "ipython3",
   "version": "3.7.12"
  }
 },
 "nbformat": 4,
 "nbformat_minor": 5
}

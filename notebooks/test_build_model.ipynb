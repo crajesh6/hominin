{
 "cells": [
  {
   "cell_type": "code",
   "execution_count": 1,
   "id": "3283234d",
   "metadata": {},
   "outputs": [
    {
     "name": "stderr",
     "output_type": "stream",
     "text": [
      "2023-12-14 11:14:50.145140: I tensorflow/core/platform/cpu_feature_guard.cc:193] This TensorFlow binary is optimized with oneAPI Deep Neural Network Library (oneDNN) to use the following CPU instructions in performance-critical operations:  AVX2 FMA\n",
      "To enable them in other operations, rebuild TensorFlow with the appropriate compiler flags.\n",
      "2023-12-14 11:14:50.982884: W tensorflow/compiler/xla/stream_executor/platform/default/dso_loader.cc:64] Could not load dynamic library 'libnvinfer.so.7'; dlerror: libnvinfer.so.7: cannot open shared object file: No such file or directory\n",
      "2023-12-14 11:14:50.982958: W tensorflow/compiler/xla/stream_executor/platform/default/dso_loader.cc:64] Could not load dynamic library 'libnvinfer_plugin.so.7'; dlerror: libnvinfer_plugin.so.7: cannot open shared object file: No such file or directory\n",
      "2023-12-14 11:14:50.982965: W tensorflow/compiler/tf2tensorrt/utils/py_utils.cc:38] TF-TRT Warning: Cannot dlopen some TensorRT libraries. If you would like to use Nvidia GPU with TensorRT, please make sure the missing libraries mentioned above are installed properly.\n"
     ]
    }
   ],
   "source": [
    "import hominin\n",
    "from hominin import model_zoo, utils, data_processor\n",
    "import yaml\n",
    "\n",
    "import tensorflow as tf"
   ]
  },
  {
   "cell_type": "code",
   "execution_count": 2,
   "id": "339b943f",
   "metadata": {},
   "outputs": [
    {
     "data": {
      "text/plain": [
       "<module 'hominin.model_zoo' from '/home/chandana/projects/hominin/hominin/model_zoo.py'>"
      ]
     },
     "execution_count": 2,
     "metadata": {},
     "output_type": "execute_result"
    }
   ],
   "source": [
    "import importlib\n",
    "\n",
    "importlib.reload(model_zoo)"
   ]
  },
  {
   "cell_type": "code",
   "execution_count": 2,
   "id": "4b06ce3f",
   "metadata": {},
   "outputs": [
    {
     "name": "stdout",
     "output_type": "stream",
     "text": [
      "(97915, 1)\n",
      "(13987, 1)\n",
      "(27975, 1)\n"
     ]
    }
   ],
   "source": [
    "config_path = '/home/chandana/projects/hominin/experiments/lenti-mpra/cam/standard/softconv/attention_pool/pool_size=0/elu/trial_0/config.yaml'\n",
    "config = yaml.full_load(open(config_path))\n",
    "\n",
    "dp = data_processor.DataProcessor(dataset='hepg2', subsample=False)\n",
    "\n",
    "x_train, y_train = dp.load_data(\"train\")\n",
    "x_valid, y_valid = dp.load_data(\"valid\")\n",
    "x_test, y_test = dp.load_data(\"test\")\n",
    "# sample = x_train[:1]"
   ]
  },
  {
   "cell_type": "code",
   "execution_count": 3,
   "id": "c0be97cf",
   "metadata": {},
   "outputs": [],
   "source": [
    "from tensorflow.keras import Model\n",
    "from tensorflow.keras.layers import Input, Conv1D, MaxPooling1D, Flatten, Dense, Dropout, BatchNormalization, ReLU, LayerNormalization\n",
    "\n",
    "\n",
    "def standard(input_shape, output_shape):\n",
    "    inputs = Input(shape=(input_shape[1], input_shape[2]), name=\"input\")\n",
    "    layer = Conv1D(250, kernel_size=7, strides=1, activation='relu', name=\"conv1\")(inputs)  # 250 7 relu\n",
    "    layer = BatchNormalization()(layer)\n",
    "    layer = Conv1D(250, 8, strides=1, activation='softmax', name=\"conv2\")(layer)  # 250 8 softmax\n",
    "    layer = BatchNormalization()(layer)\n",
    "    layer = MaxPooling1D(pool_size=2, strides=None, name=\"maxpool1\")(layer)\n",
    "    layer = Dropout(0.1)(layer)\n",
    "    layer = Conv1D(250, 3, strides=1, activation='softmax', name=\"conv3\")(layer)  # 250 3 softmax\n",
    "    layer = BatchNormalization()(layer)\n",
    "    layer = Conv1D(100, 2, strides=1, activation='softmax', name=\"conv4\")(layer)  # 100 3 softmax\n",
    "    layer = BatchNormalization()(layer)\n",
    "    layer = MaxPooling1D(pool_size=1, strides=None, name=\"maxpool2\")(layer)\n",
    "    layer = Dropout(0.1)(layer)\n",
    "    layer = Flatten()(layer)\n",
    "    layer = Dense(300, activation='sigmoid')(layer)  # 300\n",
    "    layer = Dropout(0.3)(layer)\n",
    "    layer = Dense(200, activation='sigmoid')(layer)  # 300\n",
    "    predictions = Dense(output_shape[1], activation='linear')(layer)\n",
    "    model = Model(inputs=inputs, outputs=predictions)\n",
    "    return (model)"
   ]
  },
  {
   "cell_type": "code",
   "execution_count": 7,
   "id": "4cc357d1",
   "metadata": {},
   "outputs": [
    {
     "name": "stdout",
     "output_type": "stream",
     "text": [
      "Epoch 1/100\n",
      "1530/1530 [==============================] - ETA: 0s - loss: 0.4604WARNING:tensorflow:Early stopping conditioned on metric `val_mse` which is not available. Available metrics are: loss,val_loss\n",
      "1530/1530 [==============================] - 32s 16ms/step - loss: 0.4604 - val_loss: 0.3888\n",
      "Epoch 2/100\n",
      "1528/1530 [============================>.] - ETA: 0s - loss: 0.3798WARNING:tensorflow:Early stopping conditioned on metric `val_mse` which is not available. Available metrics are: loss,val_loss\n",
      "1530/1530 [==============================] - 24s 16ms/step - loss: 0.3797 - val_loss: 0.3596\n",
      "Epoch 3/100\n",
      "1528/1530 [============================>.] - ETA: 0s - loss: 0.3454WARNING:tensorflow:Early stopping conditioned on metric `val_mse` which is not available. Available metrics are: loss,val_loss\n",
      "1530/1530 [==============================] - 24s 16ms/step - loss: 0.3454 - val_loss: 0.3486\n",
      "Epoch 4/100\n",
      "1528/1530 [============================>.] - ETA: 0s - loss: 0.3148WARNING:tensorflow:Early stopping conditioned on metric `val_mse` which is not available. Available metrics are: loss,val_loss\n",
      "1530/1530 [==============================] - 25s 16ms/step - loss: 0.3149 - val_loss: 0.3921\n",
      "Epoch 5/100\n",
      "1529/1530 [============================>.] - ETA: 0s - loss: 0.2889WARNING:tensorflow:Early stopping conditioned on metric `val_mse` which is not available. Available metrics are: loss,val_loss\n",
      "1530/1530 [==============================] - 24s 16ms/step - loss: 0.2889 - val_loss: 0.3557\n",
      "Epoch 6/100\n",
      "1530/1530 [==============================] - ETA: 0s - loss: 0.2687WARNING:tensorflow:Early stopping conditioned on metric `val_mse` which is not available. Available metrics are: loss,val_loss\n",
      "1530/1530 [==============================] - 25s 16ms/step - loss: 0.2687 - val_loss: 0.3362\n",
      "Epoch 7/100\n",
      "1529/1530 [============================>.] - ETA: 0s - loss: 0.2438WARNING:tensorflow:Early stopping conditioned on metric `val_mse` which is not available. Available metrics are: loss,val_loss\n",
      "1530/1530 [==============================] - 25s 16ms/step - loss: 0.2438 - val_loss: 0.3667\n",
      "Epoch 8/100\n",
      "1527/1530 [============================>.] - ETA: 0s - loss: 0.2254WARNING:tensorflow:Early stopping conditioned on metric `val_mse` which is not available. Available metrics are: loss,val_loss\n",
      "1530/1530 [==============================] - 25s 16ms/step - loss: 0.2255 - val_loss: 0.3689\n",
      "Epoch 9/100\n",
      "1528/1530 [============================>.] - ETA: 0s - loss: 0.2062WARNING:tensorflow:Early stopping conditioned on metric `val_mse` which is not available. Available metrics are: loss,val_loss\n",
      "1530/1530 [==============================] - 24s 16ms/step - loss: 0.2062 - val_loss: 0.3377\n",
      "Epoch 10/100\n",
      "1528/1530 [============================>.] - ETA: 0s - loss: 0.1907WARNING:tensorflow:Early stopping conditioned on metric `val_mse` which is not available. Available metrics are: loss,val_loss\n",
      "1530/1530 [==============================] - 24s 16ms/step - loss: 0.1907 - val_loss: 0.3560\n",
      "Epoch 11/100\n",
      "1527/1530 [============================>.] - ETA: 0s - loss: 0.1762WARNING:tensorflow:Early stopping conditioned on metric `val_mse` which is not available. Available metrics are: loss,val_loss\n",
      "1530/1530 [==============================] - 24s 16ms/step - loss: 0.1762 - val_loss: 0.3439\n",
      "Epoch 12/100\n",
      "1528/1530 [============================>.] - ETA: 0s - loss: 0.1650WARNING:tensorflow:Early stopping conditioned on metric `val_mse` which is not available. Available metrics are: loss,val_loss\n",
      "1530/1530 [==============================] - 24s 16ms/step - loss: 0.1651 - val_loss: 0.4070\n",
      "Epoch 13/100\n",
      "1529/1530 [============================>.] - ETA: 0s - loss: 0.1547WARNING:tensorflow:Early stopping conditioned on metric `val_mse` which is not available. Available metrics are: loss,val_loss\n",
      "1530/1530 [==============================] - 24s 16ms/step - loss: 0.1547 - val_loss: 0.3304\n",
      "Epoch 14/100\n",
      "1529/1530 [============================>.] - ETA: 0s - loss: 0.1443WARNING:tensorflow:Early stopping conditioned on metric `val_mse` which is not available. Available metrics are: loss,val_loss\n",
      "1530/1530 [==============================] - 24s 16ms/step - loss: 0.1443 - val_loss: 0.3342\n",
      "Epoch 15/100\n",
      "1528/1530 [============================>.] - ETA: 0s - loss: 0.1351WARNING:tensorflow:Early stopping conditioned on metric `val_mse` which is not available. Available metrics are: loss,val_loss\n",
      "1530/1530 [==============================] - 24s 16ms/step - loss: 0.1352 - val_loss: 0.3449\n",
      "Epoch 16/100\n",
      "1528/1530 [============================>.] - ETA: 0s - loss: 0.1261WARNING:tensorflow:Early stopping conditioned on metric `val_mse` which is not available. Available metrics are: loss,val_loss\n",
      "1530/1530 [==============================] - 24s 16ms/step - loss: 0.1261 - val_loss: 0.3464\n",
      "Epoch 17/100\n",
      "1529/1530 [============================>.] - ETA: 0s - loss: 0.1202WARNING:tensorflow:Early stopping conditioned on metric `val_mse` which is not available. Available metrics are: loss,val_loss\n",
      "1530/1530 [==============================] - 24s 16ms/step - loss: 0.1202 - val_loss: 0.3460\n",
      "Epoch 18/100\n",
      "1529/1530 [============================>.] - ETA: 0s - loss: 0.1149WARNING:tensorflow:Early stopping conditioned on metric `val_mse` which is not available. Available metrics are: loss,val_loss\n",
      "1530/1530 [==============================] - 24s 16ms/step - loss: 0.1149 - val_loss: 0.3811\n",
      "Epoch 19/100\n",
      "1529/1530 [============================>.] - ETA: 0s - loss: 0.1077WARNING:tensorflow:Early stopping conditioned on metric `val_mse` which is not available. Available metrics are: loss,val_loss\n",
      "1530/1530 [==============================] - 25s 16ms/step - loss: 0.1077 - val_loss: 0.3675\n",
      "Epoch 20/100\n",
      "1529/1530 [============================>.] - ETA: 0s - loss: 0.1024WARNING:tensorflow:Early stopping conditioned on metric `val_mse` which is not available. Available metrics are: loss,val_loss\n",
      "1530/1530 [==============================] - 24s 16ms/step - loss: 0.1024 - val_loss: 0.3407\n",
      "Epoch 21/100\n",
      "1529/1530 [============================>.] - ETA: 0s - loss: 0.1000WARNING:tensorflow:Early stopping conditioned on metric `val_mse` which is not available. Available metrics are: loss,val_loss\n",
      "1530/1530 [==============================] - 25s 16ms/step - loss: 0.1000 - val_loss: 0.3466\n",
      "Epoch 22/100\n",
      "1529/1530 [============================>.] - ETA: 0s - loss: 0.0944WARNING:tensorflow:Early stopping conditioned on metric `val_mse` which is not available. Available metrics are: loss,val_loss\n",
      "1530/1530 [==============================] - 25s 16ms/step - loss: 0.0944 - val_loss: 0.3488\n",
      "Epoch 23/100\n",
      "1529/1530 [============================>.] - ETA: 0s - loss: 0.0906WARNING:tensorflow:Early stopping conditioned on metric `val_mse` which is not available. Available metrics are: loss,val_loss\n",
      "1530/1530 [==============================] - 24s 16ms/step - loss: 0.0906 - val_loss: 0.3867\n",
      "Epoch 24/100\n",
      "1529/1530 [============================>.] - ETA: 0s - loss: 0.0862WARNING:tensorflow:Early stopping conditioned on metric `val_mse` which is not available. Available metrics are: loss,val_loss\n",
      "1530/1530 [==============================] - 24s 16ms/step - loss: 0.0862 - val_loss: 0.3341\n",
      "Epoch 25/100\n",
      "1529/1530 [============================>.] - ETA: 0s - loss: 0.0839WARNING:tensorflow:Early stopping conditioned on metric `val_mse` which is not available. Available metrics are: loss,val_loss\n",
      "1530/1530 [==============================] - 24s 16ms/step - loss: 0.0839 - val_loss: 0.3373\n",
      "Epoch 26/100\n",
      "1527/1530 [============================>.] - ETA: 0s - loss: 0.0811WARNING:tensorflow:Early stopping conditioned on metric `val_mse` which is not available. Available metrics are: loss,val_loss\n",
      "1530/1530 [==============================] - 25s 16ms/step - loss: 0.0811 - val_loss: 0.3695\n",
      "Epoch 27/100\n",
      "1529/1530 [============================>.] - ETA: 0s - loss: 0.0781WARNING:tensorflow:Early stopping conditioned on metric `val_mse` which is not available. Available metrics are: loss,val_loss\n",
      "1530/1530 [==============================] - 25s 16ms/step - loss: 0.0781 - val_loss: 0.3386\n",
      "Epoch 28/100\n",
      "1528/1530 [============================>.] - ETA: 0s - loss: 0.0760WARNING:tensorflow:Early stopping conditioned on metric `val_mse` which is not available. Available metrics are: loss,val_loss\n"
     ]
    },
    {
     "name": "stdout",
     "output_type": "stream",
     "text": [
      "1530/1530 [==============================] - 25s 16ms/step - loss: 0.0759 - val_loss: 0.3437\n",
      "Epoch 29/100\n",
      "1529/1530 [============================>.] - ETA: 0s - loss: 0.0730WARNING:tensorflow:Early stopping conditioned on metric `val_mse` which is not available. Available metrics are: loss,val_loss\n",
      "1530/1530 [==============================] - 25s 16ms/step - loss: 0.0731 - val_loss: 0.3513\n",
      "Epoch 30/100\n",
      "1528/1530 [============================>.] - ETA: 0s - loss: 0.0705WARNING:tensorflow:Early stopping conditioned on metric `val_mse` which is not available. Available metrics are: loss,val_loss\n",
      "1530/1530 [==============================] - 25s 16ms/step - loss: 0.0705 - val_loss: 0.3422\n",
      "Epoch 31/100\n",
      "1528/1530 [============================>.] - ETA: 0s - loss: 0.0692WARNING:tensorflow:Early stopping conditioned on metric `val_mse` which is not available. Available metrics are: loss,val_loss\n",
      "1530/1530 [==============================] - 24s 16ms/step - loss: 0.0692 - val_loss: 0.3467\n",
      "Epoch 32/100\n",
      "1527/1530 [============================>.] - ETA: 0s - loss: 0.0663WARNING:tensorflow:Early stopping conditioned on metric `val_mse` which is not available. Available metrics are: loss,val_loss\n",
      "1530/1530 [==============================] - 25s 16ms/step - loss: 0.0663 - val_loss: 0.3676\n",
      "Epoch 33/100\n",
      "1529/1530 [============================>.] - ETA: 0s - loss: 0.0646WARNING:tensorflow:Early stopping conditioned on metric `val_mse` which is not available. Available metrics are: loss,val_loss\n",
      "1530/1530 [==============================] - 25s 16ms/step - loss: 0.0646 - val_loss: 0.3374\n",
      "Epoch 34/100\n",
      "1528/1530 [============================>.] - ETA: 0s - loss: 0.0632WARNING:tensorflow:Early stopping conditioned on metric `val_mse` which is not available. Available metrics are: loss,val_loss\n",
      "1530/1530 [==============================] - 24s 16ms/step - loss: 0.0632 - val_loss: 0.3933\n",
      "Epoch 35/100\n",
      "1529/1530 [============================>.] - ETA: 0s - loss: 0.0618WARNING:tensorflow:Early stopping conditioned on metric `val_mse` which is not available. Available metrics are: loss,val_loss\n",
      "1530/1530 [==============================] - 25s 16ms/step - loss: 0.0618 - val_loss: 0.3458\n",
      "Epoch 36/100\n",
      "1528/1530 [============================>.] - ETA: 0s - loss: 0.0610WARNING:tensorflow:Early stopping conditioned on metric `val_mse` which is not available. Available metrics are: loss,val_loss\n",
      "1530/1530 [==============================] - 25s 16ms/step - loss: 0.0610 - val_loss: 0.3864\n",
      "Epoch 37/100\n",
      "1529/1530 [============================>.] - ETA: 0s - loss: 0.0592WARNING:tensorflow:Early stopping conditioned on metric `val_mse` which is not available. Available metrics are: loss,val_loss\n",
      "1530/1530 [==============================] - 25s 16ms/step - loss: 0.0592 - val_loss: 0.3965\n",
      "Epoch 38/100\n",
      "1528/1530 [============================>.] - ETA: 0s - loss: 0.0576WARNING:tensorflow:Early stopping conditioned on metric `val_mse` which is not available. Available metrics are: loss,val_loss\n",
      "1530/1530 [==============================] - 25s 16ms/step - loss: 0.0576 - val_loss: 0.3595\n",
      "Epoch 39/100\n",
      "1529/1530 [============================>.] - ETA: 0s - loss: 0.0560WARNING:tensorflow:Early stopping conditioned on metric `val_mse` which is not available. Available metrics are: loss,val_loss\n",
      "1530/1530 [==============================] - 24s 16ms/step - loss: 0.0560 - val_loss: 0.3517\n",
      "Epoch 40/100\n",
      "1529/1530 [============================>.] - ETA: 0s - loss: 0.0544WARNING:tensorflow:Early stopping conditioned on metric `val_mse` which is not available. Available metrics are: loss,val_loss\n",
      "1530/1530 [==============================] - 25s 16ms/step - loss: 0.0544 - val_loss: 0.3855\n",
      "Epoch 41/100\n",
      "1528/1530 [============================>.] - ETA: 0s - loss: 0.0531WARNING:tensorflow:Early stopping conditioned on metric `val_mse` which is not available. Available metrics are: loss,val_loss\n",
      "1530/1530 [==============================] - 25s 16ms/step - loss: 0.0531 - val_loss: 0.3454\n",
      "Epoch 42/100\n",
      "1528/1530 [============================>.] - ETA: 0s - loss: 0.0526WARNING:tensorflow:Early stopping conditioned on metric `val_mse` which is not available. Available metrics are: loss,val_loss\n",
      "1530/1530 [==============================] - 25s 16ms/step - loss: 0.0526 - val_loss: 0.3326\n",
      "Epoch 43/100\n",
      "1529/1530 [============================>.] - ETA: 0s - loss: 0.0520WARNING:tensorflow:Early stopping conditioned on metric `val_mse` which is not available. Available metrics are: loss,val_loss\n",
      "1530/1530 [==============================] - 25s 16ms/step - loss: 0.0520 - val_loss: 0.4424\n",
      "Epoch 44/100\n",
      "1529/1530 [============================>.] - ETA: 0s - loss: 0.0506WARNING:tensorflow:Early stopping conditioned on metric `val_mse` which is not available. Available metrics are: loss,val_loss\n",
      "1530/1530 [==============================] - 25s 16ms/step - loss: 0.0506 - val_loss: 0.3958\n",
      "Epoch 45/100\n",
      "1529/1530 [============================>.] - ETA: 0s - loss: 0.0495WARNING:tensorflow:Early stopping conditioned on metric `val_mse` which is not available. Available metrics are: loss,val_loss\n",
      "1530/1530 [==============================] - 25s 16ms/step - loss: 0.0495 - val_loss: 0.3903\n",
      "Epoch 46/100\n",
      "1527/1530 [============================>.] - ETA: 0s - loss: 0.0489WARNING:tensorflow:Early stopping conditioned on metric `val_mse` which is not available. Available metrics are: loss,val_loss\n",
      "1530/1530 [==============================] - 24s 16ms/step - loss: 0.0489 - val_loss: 0.3999\n",
      "Epoch 47/100\n",
      "1529/1530 [============================>.] - ETA: 0s - loss: 0.0474WARNING:tensorflow:Early stopping conditioned on metric `val_mse` which is not available. Available metrics are: loss,val_loss\n",
      "1530/1530 [==============================] - 25s 16ms/step - loss: 0.0474 - val_loss: 0.3267\n",
      "Epoch 48/100\n",
      "1528/1530 [============================>.] - ETA: 0s - loss: 0.0469WARNING:tensorflow:Early stopping conditioned on metric `val_mse` which is not available. Available metrics are: loss,val_loss\n",
      "1530/1530 [==============================] - 24s 16ms/step - loss: 0.0469 - val_loss: 0.3488\n",
      "Epoch 49/100\n",
      "1528/1530 [============================>.] - ETA: 0s - loss: 0.0455WARNING:tensorflow:Early stopping conditioned on metric `val_mse` which is not available. Available metrics are: loss,val_loss\n",
      "1530/1530 [==============================] - 25s 16ms/step - loss: 0.0455 - val_loss: 0.3279\n",
      "Epoch 50/100\n",
      "1529/1530 [============================>.] - ETA: 0s - loss: 0.0450WARNING:tensorflow:Early stopping conditioned on metric `val_mse` which is not available. Available metrics are: loss,val_loss\n",
      "1530/1530 [==============================] - 25s 16ms/step - loss: 0.0450 - val_loss: 0.3326\n",
      "Epoch 51/100\n",
      "1529/1530 [============================>.] - ETA: 0s - loss: 0.0446WARNING:tensorflow:Early stopping conditioned on metric `val_mse` which is not available. Available metrics are: loss,val_loss\n",
      "1530/1530 [==============================] - 24s 16ms/step - loss: 0.0446 - val_loss: 0.3316\n",
      "Epoch 52/100\n",
      "1529/1530 [============================>.] - ETA: 0s - loss: 0.0437WARNING:tensorflow:Early stopping conditioned on metric `val_mse` which is not available. Available metrics are: loss,val_loss\n",
      "1530/1530 [==============================] - 25s 16ms/step - loss: 0.0437 - val_loss: 0.3290\n",
      "Epoch 53/100\n",
      "1528/1530 [============================>.] - ETA: 0s - loss: 0.0427WARNING:tensorflow:Early stopping conditioned on metric `val_mse` which is not available. Available metrics are: loss,val_loss\n",
      "1530/1530 [==============================] - 25s 16ms/step - loss: 0.0427 - val_loss: 0.4161\n",
      "Epoch 54/100\n",
      "1529/1530 [============================>.] - ETA: 0s - loss: 0.0417WARNING:tensorflow:Early stopping conditioned on metric `val_mse` which is not available. Available metrics are: loss,val_loss\n",
      "1530/1530 [==============================] - 25s 16ms/step - loss: 0.0417 - val_loss: 0.4059\n",
      "Epoch 55/100\n",
      "1528/1530 [============================>.] - ETA: 0s - loss: 0.0415WARNING:tensorflow:Early stopping conditioned on metric `val_mse` which is not available. Available metrics are: loss,val_loss\n",
      "1530/1530 [==============================] - 25s 16ms/step - loss: 0.0415 - val_loss: 0.3853\n"
     ]
    },
    {
     "name": "stdout",
     "output_type": "stream",
     "text": [
      "Epoch 56/100\n",
      "1528/1530 [============================>.] - ETA: 0s - loss: 0.0409WARNING:tensorflow:Early stopping conditioned on metric `val_mse` which is not available. Available metrics are: loss,val_loss\n",
      "1530/1530 [==============================] - 25s 16ms/step - loss: 0.0409 - val_loss: 0.3480\n",
      "Epoch 57/100\n",
      "1528/1530 [============================>.] - ETA: 0s - loss: 0.0405WARNING:tensorflow:Early stopping conditioned on metric `val_mse` which is not available. Available metrics are: loss,val_loss\n",
      "1530/1530 [==============================] - 25s 16ms/step - loss: 0.0405 - val_loss: 0.3968\n",
      "Epoch 58/100\n",
      "1529/1530 [============================>.] - ETA: 0s - loss: 0.0399WARNING:tensorflow:Early stopping conditioned on metric `val_mse` which is not available. Available metrics are: loss,val_loss\n",
      "1530/1530 [==============================] - 25s 16ms/step - loss: 0.0399 - val_loss: 0.3752\n",
      "Epoch 59/100\n",
      "1529/1530 [============================>.] - ETA: 0s - loss: 0.0386WARNING:tensorflow:Early stopping conditioned on metric `val_mse` which is not available. Available metrics are: loss,val_loss\n",
      "1530/1530 [==============================] - 25s 16ms/step - loss: 0.0386 - val_loss: 0.3342\n",
      "Epoch 60/100\n",
      "1529/1530 [============================>.] - ETA: 0s - loss: 0.0388WARNING:tensorflow:Early stopping conditioned on metric `val_mse` which is not available. Available metrics are: loss,val_loss\n",
      "1530/1530 [==============================] - 25s 16ms/step - loss: 0.0388 - val_loss: 0.3912\n",
      "Epoch 61/100\n",
      "1528/1530 [============================>.] - ETA: 0s - loss: 0.0375WARNING:tensorflow:Early stopping conditioned on metric `val_mse` which is not available. Available metrics are: loss,val_loss\n",
      "1530/1530 [==============================] - 25s 16ms/step - loss: 0.0375 - val_loss: 0.3529\n",
      "Epoch 62/100\n",
      "1527/1530 [============================>.] - ETA: 0s - loss: 0.0375WARNING:tensorflow:Early stopping conditioned on metric `val_mse` which is not available. Available metrics are: loss,val_loss\n",
      "1530/1530 [==============================] - 25s 16ms/step - loss: 0.0375 - val_loss: 0.3503\n",
      "Epoch 63/100\n",
      "1529/1530 [============================>.] - ETA: 0s - loss: 0.0375WARNING:tensorflow:Early stopping conditioned on metric `val_mse` which is not available. Available metrics are: loss,val_loss\n",
      "1530/1530 [==============================] - 25s 16ms/step - loss: 0.0375 - val_loss: 0.3562\n",
      "Epoch 64/100\n",
      "1529/1530 [============================>.] - ETA: 0s - loss: 0.0364WARNING:tensorflow:Early stopping conditioned on metric `val_mse` which is not available. Available metrics are: loss,val_loss\n",
      "1530/1530 [==============================] - 25s 16ms/step - loss: 0.0364 - val_loss: 0.4292\n",
      "Epoch 65/100\n",
      "1528/1530 [============================>.] - ETA: 0s - loss: 0.0362WARNING:tensorflow:Early stopping conditioned on metric `val_mse` which is not available. Available metrics are: loss,val_loss\n",
      "1530/1530 [==============================] - 25s 16ms/step - loss: 0.0362 - val_loss: 0.4529\n",
      "Epoch 66/100\n",
      "1527/1530 [============================>.] - ETA: 0s - loss: 0.0355WARNING:tensorflow:Early stopping conditioned on metric `val_mse` which is not available. Available metrics are: loss,val_loss\n",
      "1530/1530 [==============================] - 25s 16ms/step - loss: 0.0355 - val_loss: 0.4005\n",
      "Epoch 67/100\n",
      "1529/1530 [============================>.] - ETA: 0s - loss: 0.0350WARNING:tensorflow:Early stopping conditioned on metric `val_mse` which is not available. Available metrics are: loss,val_loss\n",
      "1530/1530 [==============================] - 25s 16ms/step - loss: 0.0350 - val_loss: 0.3326\n",
      "Epoch 68/100\n",
      "1528/1530 [============================>.] - ETA: 0s - loss: 0.0351WARNING:tensorflow:Early stopping conditioned on metric `val_mse` which is not available. Available metrics are: loss,val_loss\n",
      "1530/1530 [==============================] - 25s 16ms/step - loss: 0.0351 - val_loss: 0.3844\n",
      "Epoch 69/100\n",
      "1529/1530 [============================>.] - ETA: 0s - loss: 0.0347WARNING:tensorflow:Early stopping conditioned on metric `val_mse` which is not available. Available metrics are: loss,val_loss\n",
      "1530/1530 [==============================] - 25s 16ms/step - loss: 0.0347 - val_loss: 0.3632\n",
      "Epoch 70/100\n",
      "1529/1530 [============================>.] - ETA: 0s - loss: 0.0338WARNING:tensorflow:Early stopping conditioned on metric `val_mse` which is not available. Available metrics are: loss,val_loss\n",
      "1530/1530 [==============================] - 24s 16ms/step - loss: 0.0338 - val_loss: 0.4064\n",
      "Epoch 71/100\n",
      "1527/1530 [============================>.] - ETA: 0s - loss: 0.0335WARNING:tensorflow:Early stopping conditioned on metric `val_mse` which is not available. Available metrics are: loss,val_loss\n",
      "1530/1530 [==============================] - 25s 16ms/step - loss: 0.0335 - val_loss: 0.3886\n",
      "Epoch 72/100\n",
      "1528/1530 [============================>.] - ETA: 0s - loss: 0.0341WARNING:tensorflow:Early stopping conditioned on metric `val_mse` which is not available. Available metrics are: loss,val_loss\n",
      "1530/1530 [==============================] - 25s 16ms/step - loss: 0.0341 - val_loss: 0.3616\n",
      "Epoch 73/100\n",
      "1529/1530 [============================>.] - ETA: 0s - loss: 0.0327WARNING:tensorflow:Early stopping conditioned on metric `val_mse` which is not available. Available metrics are: loss,val_loss\n",
      "1530/1530 [==============================] - 25s 16ms/step - loss: 0.0327 - val_loss: 0.3696\n",
      "Epoch 74/100\n",
      "1527/1530 [============================>.] - ETA: 0s - loss: 0.0320WARNING:tensorflow:Early stopping conditioned on metric `val_mse` which is not available. Available metrics are: loss,val_loss\n",
      "1530/1530 [==============================] - 24s 16ms/step - loss: 0.0320 - val_loss: 0.3933\n",
      "Epoch 75/100\n",
      "1529/1530 [============================>.] - ETA: 0s - loss: 0.0328WARNING:tensorflow:Early stopping conditioned on metric `val_mse` which is not available. Available metrics are: loss,val_loss\n",
      "1530/1530 [==============================] - 25s 16ms/step - loss: 0.0328 - val_loss: 0.3246\n",
      "Epoch 76/100\n",
      "1529/1530 [============================>.] - ETA: 0s - loss: 0.0318WARNING:tensorflow:Early stopping conditioned on metric `val_mse` which is not available. Available metrics are: loss,val_loss\n",
      "1530/1530 [==============================] - 25s 16ms/step - loss: 0.0318 - val_loss: 0.3505\n",
      "Epoch 77/100\n",
      "1528/1530 [============================>.] - ETA: 0s - loss: 0.0315WARNING:tensorflow:Early stopping conditioned on metric `val_mse` which is not available. Available metrics are: loss,val_loss\n",
      "1530/1530 [==============================] - 25s 16ms/step - loss: 0.0315 - val_loss: 0.5259\n",
      "Epoch 78/100\n",
      "1528/1530 [============================>.] - ETA: 0s - loss: 0.0320WARNING:tensorflow:Early stopping conditioned on metric `val_mse` which is not available. Available metrics are: loss,val_loss\n",
      "1530/1530 [==============================] - 25s 16ms/step - loss: 0.0320 - val_loss: 0.3575\n",
      "Epoch 79/100\n",
      "1529/1530 [============================>.] - ETA: 0s - loss: 0.0305WARNING:tensorflow:Early stopping conditioned on metric `val_mse` which is not available. Available metrics are: loss,val_loss\n",
      "1530/1530 [==============================] - 25s 16ms/step - loss: 0.0305 - val_loss: 0.3488\n",
      "Epoch 80/100\n",
      "1529/1530 [============================>.] - ETA: 0s - loss: 0.0307WARNING:tensorflow:Early stopping conditioned on metric `val_mse` which is not available. Available metrics are: loss,val_loss\n",
      "1530/1530 [==============================] - 25s 16ms/step - loss: 0.0307 - val_loss: 0.3946\n",
      "Epoch 81/100\n",
      "1529/1530 [============================>.] - ETA: 0s - loss: 0.0303WARNING:tensorflow:Early stopping conditioned on metric `val_mse` which is not available. Available metrics are: loss,val_loss\n",
      "1530/1530 [==============================] - 24s 16ms/step - loss: 0.0303 - val_loss: 0.3653\n",
      "Epoch 82/100\n",
      "1528/1530 [============================>.] - ETA: 0s - loss: 0.0298WARNING:tensorflow:Early stopping conditioned on metric `val_mse` which is not available. Available metrics are: loss,val_loss\n",
      "1530/1530 [==============================] - 24s 16ms/step - loss: 0.0298 - val_loss: 0.3283\n",
      "Epoch 83/100\n",
      "1527/1530 [============================>.] - ETA: 0s - loss: 0.0297WARNING:tensorflow:Early stopping conditioned on metric `val_mse` which is not available. Available metrics are: loss,val_loss\n"
     ]
    },
    {
     "name": "stdout",
     "output_type": "stream",
     "text": [
      "1530/1530 [==============================] - 24s 16ms/step - loss: 0.0297 - val_loss: 0.4070\n",
      "Epoch 84/100\n",
      "1528/1530 [============================>.] - ETA: 0s - loss: 0.0293WARNING:tensorflow:Early stopping conditioned on metric `val_mse` which is not available. Available metrics are: loss,val_loss\n",
      "1530/1530 [==============================] - 25s 16ms/step - loss: 0.0293 - val_loss: 0.3479\n",
      "Epoch 85/100\n",
      "1528/1530 [============================>.] - ETA: 0s - loss: 0.0288WARNING:tensorflow:Early stopping conditioned on metric `val_mse` which is not available. Available metrics are: loss,val_loss\n",
      "1530/1530 [==============================] - 25s 16ms/step - loss: 0.0288 - val_loss: 0.4025\n",
      "Epoch 86/100\n",
      "1529/1530 [============================>.] - ETA: 0s - loss: 0.0285WARNING:tensorflow:Early stopping conditioned on metric `val_mse` which is not available. Available metrics are: loss,val_loss\n",
      "1530/1530 [==============================] - 25s 16ms/step - loss: 0.0285 - val_loss: 0.3276\n",
      "Epoch 87/100\n",
      "1528/1530 [============================>.] - ETA: 0s - loss: 0.0285WARNING:tensorflow:Early stopping conditioned on metric `val_mse` which is not available. Available metrics are: loss,val_loss\n",
      "1530/1530 [==============================] - 25s 16ms/step - loss: 0.0285 - val_loss: 0.4034\n",
      "Epoch 88/100\n",
      "1529/1530 [============================>.] - ETA: 0s - loss: 0.0280WARNING:tensorflow:Early stopping conditioned on metric `val_mse` which is not available. Available metrics are: loss,val_loss\n",
      "1530/1530 [==============================] - 25s 16ms/step - loss: 0.0280 - val_loss: 0.3417\n",
      "Epoch 89/100\n",
      "1529/1530 [============================>.] - ETA: 0s - loss: 0.0288WARNING:tensorflow:Early stopping conditioned on metric `val_mse` which is not available. Available metrics are: loss,val_loss\n",
      "1530/1530 [==============================] - 25s 16ms/step - loss: 0.0288 - val_loss: 0.3550\n",
      "Epoch 90/100\n",
      "1528/1530 [============================>.] - ETA: 0s - loss: 0.0276WARNING:tensorflow:Early stopping conditioned on metric `val_mse` which is not available. Available metrics are: loss,val_loss\n",
      "1530/1530 [==============================] - 25s 16ms/step - loss: 0.0276 - val_loss: 0.3283\n",
      "Epoch 91/100\n",
      "1527/1530 [============================>.] - ETA: 0s - loss: 0.0278WARNING:tensorflow:Early stopping conditioned on metric `val_mse` which is not available. Available metrics are: loss,val_loss\n",
      "1530/1530 [==============================] - 25s 16ms/step - loss: 0.0278 - val_loss: 0.3554\n",
      "Epoch 92/100\n",
      "1528/1530 [============================>.] - ETA: 0s - loss: 0.0277WARNING:tensorflow:Early stopping conditioned on metric `val_mse` which is not available. Available metrics are: loss,val_loss\n",
      "1530/1530 [==============================] - 25s 16ms/step - loss: 0.0277 - val_loss: 0.3828\n",
      "Epoch 93/100\n",
      "1527/1530 [============================>.] - ETA: 0s - loss: 0.0273WARNING:tensorflow:Early stopping conditioned on metric `val_mse` which is not available. Available metrics are: loss,val_loss\n",
      "1530/1530 [==============================] - 25s 16ms/step - loss: 0.0273 - val_loss: 0.3618\n",
      "Epoch 94/100\n",
      "1527/1530 [============================>.] - ETA: 0s - loss: 0.0266WARNING:tensorflow:Early stopping conditioned on metric `val_mse` which is not available. Available metrics are: loss,val_loss\n",
      "1530/1530 [==============================] - 25s 16ms/step - loss: 0.0266 - val_loss: 0.3214\n",
      "Epoch 95/100\n",
      "1528/1530 [============================>.] - ETA: 0s - loss: 0.0270WARNING:tensorflow:Early stopping conditioned on metric `val_mse` which is not available. Available metrics are: loss,val_loss\n",
      "1530/1530 [==============================] - 25s 16ms/step - loss: 0.0270 - val_loss: 0.4527\n",
      "Epoch 96/100\n",
      "1528/1530 [============================>.] - ETA: 0s - loss: 0.0263WARNING:tensorflow:Early stopping conditioned on metric `val_mse` which is not available. Available metrics are: loss,val_loss\n",
      "1530/1530 [==============================] - 25s 16ms/step - loss: 0.0263 - val_loss: 0.3976\n",
      "Epoch 97/100\n",
      "1528/1530 [============================>.] - ETA: 0s - loss: 0.0263WARNING:tensorflow:Early stopping conditioned on metric `val_mse` which is not available. Available metrics are: loss,val_loss\n",
      "1530/1530 [==============================] - 25s 16ms/step - loss: 0.0263 - val_loss: 0.3748\n",
      "Epoch 98/100\n",
      "1529/1530 [============================>.] - ETA: 0s - loss: 0.0260WARNING:tensorflow:Early stopping conditioned on metric `val_mse` which is not available. Available metrics are: loss,val_loss\n",
      "1530/1530 [==============================] - 25s 16ms/step - loss: 0.0260 - val_loss: 0.3463\n",
      "Epoch 99/100\n",
      "1527/1530 [============================>.] - ETA: 0s - loss: 0.0258WARNING:tensorflow:Early stopping conditioned on metric `val_mse` which is not available. Available metrics are: loss,val_loss\n",
      "1530/1530 [==============================] - 25s 16ms/step - loss: 0.0258 - val_loss: 0.3263\n",
      "Epoch 100/100\n",
      "1529/1530 [============================>.] - ETA: 0s - loss: 0.0257WARNING:tensorflow:Early stopping conditioned on metric `val_mse` which is not available. Available metrics are: loss,val_loss\n",
      "1530/1530 [==============================] - 25s 16ms/step - loss: 0.0257 - val_loss: 0.3483\n"
     ]
    }
   ],
   "source": [
    "model = standard(input_shape=(_, 230, 4), output_shape=(_, 1))\n",
    "\n",
    "optimizer = tf.keras.optimizers.Adam(learning_rate=0.001)\n",
    "loss = 'mse'\n",
    "model.compile(optimizer=optimizer, loss=loss)\n",
    "\n",
    "\n",
    "history = model.fit(\n",
    "            x_train, y_train,\n",
    "            epochs=100,\n",
    "            batch_size=64, # need to explore which batch size is possible! (64 for citra)\n",
    "            shuffle=True,\n",
    "            validation_data=(x_valid, y_valid),\n",
    "            callbacks=[\n",
    "                 tf.keras.callbacks.EarlyStopping(\n",
    "                    monitor=\"val_mse\",\n",
    "                    patience=10,\n",
    "                    verbose=1,\n",
    "                    mode=\"max\",\n",
    "                    restore_best_weights=True\n",
    "                ),\n",
    "            ]\n",
    ")"
   ]
  },
  {
   "cell_type": "code",
   "execution_count": 8,
   "id": "63e7847a",
   "metadata": {},
   "outputs": [
    {
     "name": "stdout",
     "output_type": "stream",
     "text": [
      "438/438 [==============================] - 2s 4ms/step\n",
      "Dev MSE = 0.347\n",
      "Dev PCC = 0.693\n",
      "Dev SCC = 0.683\n",
      "0.692998602794394\n"
     ]
    }
   ],
   "source": [
    "mse, pcc, scc = utils.evaluate_model(model, x_test, y_test, \"Dev\")\n",
    "print(pcc)"
   ]
  },
  {
   "cell_type": "code",
   "execution_count": null,
   "id": "ae68fe7a",
   "metadata": {},
   "outputs": [],
   "source": []
  },
  {
   "cell_type": "code",
   "execution_count": null,
   "id": "a56c3593",
   "metadata": {},
   "outputs": [],
   "source": []
  },
  {
   "cell_type": "code",
   "execution_count": null,
   "id": "aeaf0259",
   "metadata": {},
   "outputs": [],
   "source": []
  },
  {
   "cell_type": "code",
   "execution_count": null,
   "id": "fe752be6",
   "metadata": {},
   "outputs": [],
   "source": []
  },
  {
   "cell_type": "code",
   "execution_count": 3,
   "id": "0fb8bf44",
   "metadata": {},
   "outputs": [],
   "source": [
    "config_1 = {\n",
    "    'base_model': 'cam',\n",
    "    'conv1_activation': 'exponential',\n",
    "    'conv1_batchnorm': True,\n",
    "    'conv1_dropout': 0.1,\n",
    "    'conv1_filters': 128,\n",
    "    'conv1_kernel_size': 19,\n",
    "    'conv1_pool_size': 2,\n",
    "    'conv_layer_type': 'standard',\n",
    "    'dense_activation': 'relu',\n",
    "    'dense_batchnorm': True,\n",
    "    'dense_dropout': [0.3, 0.3],\n",
    "    'dense_units': [256, 256],\n",
    "    'input_shape': (249, 4),\n",
    "    'mha_d_model': 96,\n",
    "    'mha_dropout': 0.2,\n",
    "    'mha_head_type': 'pooled',\n",
    "    'mha_heads': 8,\n",
    "    'mha_layernorm': True,\n",
    "    'motif_pooling_type': 'softconv',\n",
    "    'output_activation': 'linear',\n",
    "    'output_shape': 2,\n",
    "    'spatial_pooling_type': 'attention_pool'\n",
    "}"
   ]
  },
  {
   "cell_type": "code",
   "execution_count": 4,
   "id": "d67f4728",
   "metadata": {},
   "outputs": [
    {
     "name": "stdout",
     "output_type": "stream",
     "text": [
      "standard 128 19\n",
      "standard 128 19\n",
      "WARNING:tensorflow:From /home/chandana/miniforge3/envs/deepstarr/lib/python3.7/site-packages/tensorflow/python/autograph/pyct/static_analysis/liveness.py:83: Analyzer.lamba_check (from tensorflow.python.autograph.pyct.static_analysis.liveness) is deprecated and will be removed after 2023-09-23.\n",
      "Instructions for updating:\n",
      "Lambda fuctions will be no more assumed to be used in the statement where they are used, or at least in the same block. https://github.com/tensorflow/tensorflow/issues/56089\n"
     ]
    },
    {
     "data": {
      "text/plain": [
       "<keras.engine.functional.Functional at 0x7f6518bf9bd0>"
      ]
     },
     "execution_count": 4,
     "metadata": {},
     "output_type": "execute_result"
    }
   ],
   "source": [
    "model_1 = model_zoo.build_model(**config_1)\n",
    "\n",
    "model_1"
   ]
  },
  {
   "cell_type": "code",
   "execution_count": 7,
   "id": "aa187257",
   "metadata": {},
   "outputs": [],
   "source": [
    "config_2 = {\n",
    "    'base_model': 'nam',\n",
    "    'conv1_activation': 'exponential',\n",
    "    'conv1_batchnorm': True,\n",
    "    'conv1_dropout': 0.1,\n",
    "    'conv1_filters': 128,\n",
    "    'conv1_kernel_size': 19,\n",
    "    'conv1_pool_size': 2,\n",
    "    'conv_layer_type': 'pairwise',\n",
    "    'dense_activation': 'relu',\n",
    "    'dense_batchnorm': True,\n",
    "    'dense_dropout': [0.3, 0.3],\n",
    "    'dense_units': [256, 256],\n",
    "    'input_shape': (249, 4),\n",
    "    'mha_d_model': 96,\n",
    "    'mha_dropout': 0.2,\n",
    "    'mha_head_type': 'pooled',\n",
    "    'mha_heads': 8,\n",
    "    'mha_layernorm': True,\n",
    "    'motif_pooling_type': 'softconv',\n",
    "    'output_activation': 'linear',\n",
    "    'output_shape': 2,\n",
    "    'spatial_pooling_type': 'attention_pool'\n",
    "}"
   ]
  },
  {
   "cell_type": "code",
   "execution_count": 8,
   "id": "b0f839da",
   "metadata": {
    "scrolled": true
   },
   "outputs": [
    {
     "name": "stdout",
     "output_type": "stream",
     "text": [
      "pairwise 128 19\n",
      "pairwise 128 19\n",
      "Shape of nn: (None, 124, 128, 256)\n"
     ]
    },
    {
     "data": {
      "text/plain": [
       "<keras.engine.functional.Functional at 0x7fe2040c9e50>"
      ]
     },
     "execution_count": 8,
     "metadata": {},
     "output_type": "execute_result"
    }
   ],
   "source": [
    "model_2 = model_zoo.build_model(**config_2)\n",
    "\n",
    "model_2"
   ]
  },
  {
   "cell_type": "code",
   "execution_count": 9,
   "id": "2d2238b4",
   "metadata": {
    "collapsed": true
   },
   "outputs": [
    {
     "name": "stdout",
     "output_type": "stream",
     "text": [
      " 199/1250 [===>..........................] - ETA: 2:01 - loss: 3.3270"
     ]
    },
    {
     "ename": "KeyboardInterrupt",
     "evalue": "",
     "output_type": "error",
     "traceback": [
      "\u001b[0;31m---------------------------------------------------------------------------\u001b[0m",
      "\u001b[0;31mKeyboardInterrupt\u001b[0m                         Traceback (most recent call last)",
      "\u001b[0;32m/tmp/ipykernel_237542/3908519189.py\u001b[0m in \u001b[0;36m<module>\u001b[0;34m\u001b[0m\n\u001b[1;32m     11\u001b[0m             \u001b[0mepochs\u001b[0m\u001b[0;34m=\u001b[0m\u001b[0;36m1\u001b[0m\u001b[0;34m,\u001b[0m\u001b[0;34m\u001b[0m\u001b[0;34m\u001b[0m\u001b[0m\n\u001b[1;32m     12\u001b[0m             \u001b[0mbatch_size\u001b[0m\u001b[0;34m=\u001b[0m\u001b[0;36m64\u001b[0m\u001b[0;34m,\u001b[0m \u001b[0;31m# need to explore which batch size is possible! (64 for citra)\u001b[0m\u001b[0;34m\u001b[0m\u001b[0;34m\u001b[0m\u001b[0m\n\u001b[0;32m---> 13\u001b[0;31m             \u001b[0mshuffle\u001b[0m\u001b[0;34m=\u001b[0m\u001b[0;32mTrue\u001b[0m\u001b[0;34m,\u001b[0m\u001b[0;34m\u001b[0m\u001b[0;34m\u001b[0m\u001b[0m\n\u001b[0m\u001b[1;32m     14\u001b[0m )\n",
      "\u001b[0;32m~/miniforge3/envs/deepstarr/lib/python3.7/site-packages/wandb/integration/keras/keras.py\u001b[0m in \u001b[0;36mnew_v2\u001b[0;34m(*args, **kwargs)\u001b[0m\n\u001b[1;32m    172\u001b[0m             \u001b[0;32mfor\u001b[0m \u001b[0mcbk\u001b[0m \u001b[0;32min\u001b[0m \u001b[0mcbks\u001b[0m\u001b[0;34m:\u001b[0m\u001b[0;34m\u001b[0m\u001b[0;34m\u001b[0m\u001b[0m\n\u001b[1;32m    173\u001b[0m                 \u001b[0mset_wandb_attrs\u001b[0m\u001b[0;34m(\u001b[0m\u001b[0mcbk\u001b[0m\u001b[0;34m,\u001b[0m \u001b[0mval_data\u001b[0m\u001b[0;34m)\u001b[0m\u001b[0;34m\u001b[0m\u001b[0;34m\u001b[0m\u001b[0m\n\u001b[0;32m--> 174\u001b[0;31m         \u001b[0;32mreturn\u001b[0m \u001b[0mold_v2\u001b[0m\u001b[0;34m(\u001b[0m\u001b[0;34m*\u001b[0m\u001b[0margs\u001b[0m\u001b[0;34m,\u001b[0m \u001b[0;34m**\u001b[0m\u001b[0mkwargs\u001b[0m\u001b[0;34m)\u001b[0m\u001b[0;34m\u001b[0m\u001b[0;34m\u001b[0m\u001b[0m\n\u001b[0m\u001b[1;32m    175\u001b[0m \u001b[0;34m\u001b[0m\u001b[0m\n\u001b[1;32m    176\u001b[0m     \u001b[0mtraining_arrays\u001b[0m\u001b[0;34m.\u001b[0m\u001b[0morig_fit_loop\u001b[0m \u001b[0;34m=\u001b[0m \u001b[0mold_arrays\u001b[0m\u001b[0;34m\u001b[0m\u001b[0;34m\u001b[0m\u001b[0m\n",
      "\u001b[0;32m~/miniforge3/envs/deepstarr/lib/python3.7/site-packages/wandb/integration/keras/keras.py\u001b[0m in \u001b[0;36mnew_v2\u001b[0;34m(*args, **kwargs)\u001b[0m\n\u001b[1;32m    172\u001b[0m             \u001b[0;32mfor\u001b[0m \u001b[0mcbk\u001b[0m \u001b[0;32min\u001b[0m \u001b[0mcbks\u001b[0m\u001b[0;34m:\u001b[0m\u001b[0;34m\u001b[0m\u001b[0;34m\u001b[0m\u001b[0m\n\u001b[1;32m    173\u001b[0m                 \u001b[0mset_wandb_attrs\u001b[0m\u001b[0;34m(\u001b[0m\u001b[0mcbk\u001b[0m\u001b[0;34m,\u001b[0m \u001b[0mval_data\u001b[0m\u001b[0;34m)\u001b[0m\u001b[0;34m\u001b[0m\u001b[0;34m\u001b[0m\u001b[0m\n\u001b[0;32m--> 174\u001b[0;31m         \u001b[0;32mreturn\u001b[0m \u001b[0mold_v2\u001b[0m\u001b[0;34m(\u001b[0m\u001b[0;34m*\u001b[0m\u001b[0margs\u001b[0m\u001b[0;34m,\u001b[0m \u001b[0;34m**\u001b[0m\u001b[0mkwargs\u001b[0m\u001b[0;34m)\u001b[0m\u001b[0;34m\u001b[0m\u001b[0;34m\u001b[0m\u001b[0m\n\u001b[0m\u001b[1;32m    175\u001b[0m \u001b[0;34m\u001b[0m\u001b[0m\n\u001b[1;32m    176\u001b[0m     \u001b[0mtraining_arrays\u001b[0m\u001b[0;34m.\u001b[0m\u001b[0morig_fit_loop\u001b[0m \u001b[0;34m=\u001b[0m \u001b[0mold_arrays\u001b[0m\u001b[0;34m\u001b[0m\u001b[0;34m\u001b[0m\u001b[0m\n",
      "\u001b[0;32m~/miniforge3/envs/deepstarr/lib/python3.7/site-packages/wandb/integration/keras/keras.py\u001b[0m in \u001b[0;36mnew_v2\u001b[0;34m(*args, **kwargs)\u001b[0m\n\u001b[1;32m    172\u001b[0m             \u001b[0;32mfor\u001b[0m \u001b[0mcbk\u001b[0m \u001b[0;32min\u001b[0m \u001b[0mcbks\u001b[0m\u001b[0;34m:\u001b[0m\u001b[0;34m\u001b[0m\u001b[0;34m\u001b[0m\u001b[0m\n\u001b[1;32m    173\u001b[0m                 \u001b[0mset_wandb_attrs\u001b[0m\u001b[0;34m(\u001b[0m\u001b[0mcbk\u001b[0m\u001b[0;34m,\u001b[0m \u001b[0mval_data\u001b[0m\u001b[0;34m)\u001b[0m\u001b[0;34m\u001b[0m\u001b[0;34m\u001b[0m\u001b[0m\n\u001b[0;32m--> 174\u001b[0;31m         \u001b[0;32mreturn\u001b[0m \u001b[0mold_v2\u001b[0m\u001b[0;34m(\u001b[0m\u001b[0;34m*\u001b[0m\u001b[0margs\u001b[0m\u001b[0;34m,\u001b[0m \u001b[0;34m**\u001b[0m\u001b[0mkwargs\u001b[0m\u001b[0;34m)\u001b[0m\u001b[0;34m\u001b[0m\u001b[0;34m\u001b[0m\u001b[0m\n\u001b[0m\u001b[1;32m    175\u001b[0m \u001b[0;34m\u001b[0m\u001b[0m\n\u001b[1;32m    176\u001b[0m     \u001b[0mtraining_arrays\u001b[0m\u001b[0;34m.\u001b[0m\u001b[0morig_fit_loop\u001b[0m \u001b[0;34m=\u001b[0m \u001b[0mold_arrays\u001b[0m\u001b[0;34m\u001b[0m\u001b[0;34m\u001b[0m\u001b[0m\n",
      "\u001b[0;32m~/miniforge3/envs/deepstarr/lib/python3.7/site-packages/keras/utils/traceback_utils.py\u001b[0m in \u001b[0;36merror_handler\u001b[0;34m(*args, **kwargs)\u001b[0m\n\u001b[1;32m     63\u001b[0m         \u001b[0mfiltered_tb\u001b[0m \u001b[0;34m=\u001b[0m \u001b[0;32mNone\u001b[0m\u001b[0;34m\u001b[0m\u001b[0;34m\u001b[0m\u001b[0m\n\u001b[1;32m     64\u001b[0m         \u001b[0;32mtry\u001b[0m\u001b[0;34m:\u001b[0m\u001b[0;34m\u001b[0m\u001b[0;34m\u001b[0m\u001b[0m\n\u001b[0;32m---> 65\u001b[0;31m             \u001b[0;32mreturn\u001b[0m \u001b[0mfn\u001b[0m\u001b[0;34m(\u001b[0m\u001b[0;34m*\u001b[0m\u001b[0margs\u001b[0m\u001b[0;34m,\u001b[0m \u001b[0;34m**\u001b[0m\u001b[0mkwargs\u001b[0m\u001b[0;34m)\u001b[0m\u001b[0;34m\u001b[0m\u001b[0;34m\u001b[0m\u001b[0m\n\u001b[0m\u001b[1;32m     66\u001b[0m         \u001b[0;32mexcept\u001b[0m \u001b[0mException\u001b[0m \u001b[0;32mas\u001b[0m \u001b[0me\u001b[0m\u001b[0;34m:\u001b[0m\u001b[0;34m\u001b[0m\u001b[0;34m\u001b[0m\u001b[0m\n\u001b[1;32m     67\u001b[0m             \u001b[0mfiltered_tb\u001b[0m \u001b[0;34m=\u001b[0m \u001b[0m_process_traceback_frames\u001b[0m\u001b[0;34m(\u001b[0m\u001b[0me\u001b[0m\u001b[0;34m.\u001b[0m\u001b[0m__traceback__\u001b[0m\u001b[0;34m)\u001b[0m\u001b[0;34m\u001b[0m\u001b[0;34m\u001b[0m\u001b[0m\n",
      "\u001b[0;32m~/miniforge3/envs/deepstarr/lib/python3.7/site-packages/keras/engine/training.py\u001b[0m in \u001b[0;36mfit\u001b[0;34m(self, x, y, batch_size, epochs, verbose, callbacks, validation_split, validation_data, shuffle, class_weight, sample_weight, initial_epoch, steps_per_epoch, validation_steps, validation_batch_size, validation_freq, max_queue_size, workers, use_multiprocessing)\u001b[0m\n\u001b[1;32m   1654\u001b[0m                             \u001b[0mlogs\u001b[0m \u001b[0;34m=\u001b[0m \u001b[0mtmp_logs\u001b[0m\u001b[0;34m\u001b[0m\u001b[0;34m\u001b[0m\u001b[0m\n\u001b[1;32m   1655\u001b[0m                             \u001b[0mend_step\u001b[0m \u001b[0;34m=\u001b[0m \u001b[0mstep\u001b[0m \u001b[0;34m+\u001b[0m \u001b[0mdata_handler\u001b[0m\u001b[0;34m.\u001b[0m\u001b[0mstep_increment\u001b[0m\u001b[0;34m\u001b[0m\u001b[0;34m\u001b[0m\u001b[0m\n\u001b[0;32m-> 1656\u001b[0;31m                             \u001b[0mcallbacks\u001b[0m\u001b[0;34m.\u001b[0m\u001b[0mon_train_batch_end\u001b[0m\u001b[0;34m(\u001b[0m\u001b[0mend_step\u001b[0m\u001b[0;34m,\u001b[0m \u001b[0mlogs\u001b[0m\u001b[0;34m)\u001b[0m\u001b[0;34m\u001b[0m\u001b[0;34m\u001b[0m\u001b[0m\n\u001b[0m\u001b[1;32m   1657\u001b[0m                             \u001b[0;32mif\u001b[0m \u001b[0mself\u001b[0m\u001b[0;34m.\u001b[0m\u001b[0mstop_training\u001b[0m\u001b[0;34m:\u001b[0m\u001b[0;34m\u001b[0m\u001b[0;34m\u001b[0m\u001b[0m\n\u001b[1;32m   1658\u001b[0m                                 \u001b[0;32mbreak\u001b[0m\u001b[0;34m\u001b[0m\u001b[0;34m\u001b[0m\u001b[0m\n",
      "\u001b[0;32m~/miniforge3/envs/deepstarr/lib/python3.7/site-packages/keras/callbacks.py\u001b[0m in \u001b[0;36mon_train_batch_end\u001b[0;34m(self, batch, logs)\u001b[0m\n\u001b[1;32m    474\u001b[0m         \"\"\"\n\u001b[1;32m    475\u001b[0m         \u001b[0;32mif\u001b[0m \u001b[0mself\u001b[0m\u001b[0;34m.\u001b[0m\u001b[0m_should_call_train_batch_hooks\u001b[0m\u001b[0;34m:\u001b[0m\u001b[0;34m\u001b[0m\u001b[0;34m\u001b[0m\u001b[0m\n\u001b[0;32m--> 476\u001b[0;31m             \u001b[0mself\u001b[0m\u001b[0;34m.\u001b[0m\u001b[0m_call_batch_hook\u001b[0m\u001b[0;34m(\u001b[0m\u001b[0mModeKeys\u001b[0m\u001b[0;34m.\u001b[0m\u001b[0mTRAIN\u001b[0m\u001b[0;34m,\u001b[0m \u001b[0;34m\"end\"\u001b[0m\u001b[0;34m,\u001b[0m \u001b[0mbatch\u001b[0m\u001b[0;34m,\u001b[0m \u001b[0mlogs\u001b[0m\u001b[0;34m=\u001b[0m\u001b[0mlogs\u001b[0m\u001b[0;34m)\u001b[0m\u001b[0;34m\u001b[0m\u001b[0;34m\u001b[0m\u001b[0m\n\u001b[0m\u001b[1;32m    477\u001b[0m \u001b[0;34m\u001b[0m\u001b[0m\n\u001b[1;32m    478\u001b[0m     \u001b[0;32mdef\u001b[0m \u001b[0mon_test_batch_begin\u001b[0m\u001b[0;34m(\u001b[0m\u001b[0mself\u001b[0m\u001b[0;34m,\u001b[0m \u001b[0mbatch\u001b[0m\u001b[0;34m,\u001b[0m \u001b[0mlogs\u001b[0m\u001b[0;34m=\u001b[0m\u001b[0;32mNone\u001b[0m\u001b[0;34m)\u001b[0m\u001b[0;34m:\u001b[0m\u001b[0;34m\u001b[0m\u001b[0;34m\u001b[0m\u001b[0m\n",
      "\u001b[0;32m~/miniforge3/envs/deepstarr/lib/python3.7/site-packages/keras/callbacks.py\u001b[0m in \u001b[0;36m_call_batch_hook\u001b[0;34m(self, mode, hook, batch, logs)\u001b[0m\n\u001b[1;32m    321\u001b[0m             \u001b[0mself\u001b[0m\u001b[0;34m.\u001b[0m\u001b[0m_call_batch_begin_hook\u001b[0m\u001b[0;34m(\u001b[0m\u001b[0mmode\u001b[0m\u001b[0;34m,\u001b[0m \u001b[0mbatch\u001b[0m\u001b[0;34m,\u001b[0m \u001b[0mlogs\u001b[0m\u001b[0;34m)\u001b[0m\u001b[0;34m\u001b[0m\u001b[0;34m\u001b[0m\u001b[0m\n\u001b[1;32m    322\u001b[0m         \u001b[0;32melif\u001b[0m \u001b[0mhook\u001b[0m \u001b[0;34m==\u001b[0m \u001b[0;34m\"end\"\u001b[0m\u001b[0;34m:\u001b[0m\u001b[0;34m\u001b[0m\u001b[0;34m\u001b[0m\u001b[0m\n\u001b[0;32m--> 323\u001b[0;31m             \u001b[0mself\u001b[0m\u001b[0;34m.\u001b[0m\u001b[0m_call_batch_end_hook\u001b[0m\u001b[0;34m(\u001b[0m\u001b[0mmode\u001b[0m\u001b[0;34m,\u001b[0m \u001b[0mbatch\u001b[0m\u001b[0;34m,\u001b[0m \u001b[0mlogs\u001b[0m\u001b[0;34m)\u001b[0m\u001b[0;34m\u001b[0m\u001b[0;34m\u001b[0m\u001b[0m\n\u001b[0m\u001b[1;32m    324\u001b[0m         \u001b[0;32melse\u001b[0m\u001b[0;34m:\u001b[0m\u001b[0;34m\u001b[0m\u001b[0;34m\u001b[0m\u001b[0m\n\u001b[1;32m    325\u001b[0m             raise ValueError(\n",
      "\u001b[0;32m~/miniforge3/envs/deepstarr/lib/python3.7/site-packages/keras/callbacks.py\u001b[0m in \u001b[0;36m_call_batch_end_hook\u001b[0;34m(self, mode, batch, logs)\u001b[0m\n\u001b[1;32m    344\u001b[0m             \u001b[0mself\u001b[0m\u001b[0;34m.\u001b[0m\u001b[0m_batch_times\u001b[0m\u001b[0;34m.\u001b[0m\u001b[0mappend\u001b[0m\u001b[0;34m(\u001b[0m\u001b[0mbatch_time\u001b[0m\u001b[0;34m)\u001b[0m\u001b[0;34m\u001b[0m\u001b[0;34m\u001b[0m\u001b[0m\n\u001b[1;32m    345\u001b[0m \u001b[0;34m\u001b[0m\u001b[0m\n\u001b[0;32m--> 346\u001b[0;31m         \u001b[0mself\u001b[0m\u001b[0;34m.\u001b[0m\u001b[0m_call_batch_hook_helper\u001b[0m\u001b[0;34m(\u001b[0m\u001b[0mhook_name\u001b[0m\u001b[0;34m,\u001b[0m \u001b[0mbatch\u001b[0m\u001b[0;34m,\u001b[0m \u001b[0mlogs\u001b[0m\u001b[0;34m)\u001b[0m\u001b[0;34m\u001b[0m\u001b[0;34m\u001b[0m\u001b[0m\n\u001b[0m\u001b[1;32m    347\u001b[0m \u001b[0;34m\u001b[0m\u001b[0m\n\u001b[1;32m    348\u001b[0m         \u001b[0;32mif\u001b[0m \u001b[0mlen\u001b[0m\u001b[0;34m(\u001b[0m\u001b[0mself\u001b[0m\u001b[0;34m.\u001b[0m\u001b[0m_batch_times\u001b[0m\u001b[0;34m)\u001b[0m \u001b[0;34m>=\u001b[0m \u001b[0mself\u001b[0m\u001b[0;34m.\u001b[0m\u001b[0m_num_batches_for_timing_check\u001b[0m\u001b[0;34m:\u001b[0m\u001b[0;34m\u001b[0m\u001b[0;34m\u001b[0m\u001b[0m\n",
      "\u001b[0;32m~/miniforge3/envs/deepstarr/lib/python3.7/site-packages/keras/callbacks.py\u001b[0m in \u001b[0;36m_call_batch_hook_helper\u001b[0;34m(self, hook_name, batch, logs)\u001b[0m\n\u001b[1;32m    392\u001b[0m         \u001b[0;32mfor\u001b[0m \u001b[0mcallback\u001b[0m \u001b[0;32min\u001b[0m \u001b[0mself\u001b[0m\u001b[0;34m.\u001b[0m\u001b[0mcallbacks\u001b[0m\u001b[0;34m:\u001b[0m\u001b[0;34m\u001b[0m\u001b[0;34m\u001b[0m\u001b[0m\n\u001b[1;32m    393\u001b[0m             \u001b[0mhook\u001b[0m \u001b[0;34m=\u001b[0m \u001b[0mgetattr\u001b[0m\u001b[0;34m(\u001b[0m\u001b[0mcallback\u001b[0m\u001b[0;34m,\u001b[0m \u001b[0mhook_name\u001b[0m\u001b[0;34m)\u001b[0m\u001b[0;34m\u001b[0m\u001b[0;34m\u001b[0m\u001b[0m\n\u001b[0;32m--> 394\u001b[0;31m             \u001b[0mhook\u001b[0m\u001b[0;34m(\u001b[0m\u001b[0mbatch\u001b[0m\u001b[0;34m,\u001b[0m \u001b[0mlogs\u001b[0m\u001b[0;34m)\u001b[0m\u001b[0;34m\u001b[0m\u001b[0;34m\u001b[0m\u001b[0m\n\u001b[0m\u001b[1;32m    395\u001b[0m \u001b[0;34m\u001b[0m\u001b[0m\n\u001b[1;32m    396\u001b[0m         \u001b[0;32mif\u001b[0m \u001b[0mself\u001b[0m\u001b[0;34m.\u001b[0m\u001b[0m_check_timing\u001b[0m\u001b[0;34m:\u001b[0m\u001b[0;34m\u001b[0m\u001b[0;34m\u001b[0m\u001b[0m\n",
      "\u001b[0;32m~/miniforge3/envs/deepstarr/lib/python3.7/site-packages/keras/callbacks.py\u001b[0m in \u001b[0;36mon_train_batch_end\u001b[0;34m(self, batch, logs)\u001b[0m\n\u001b[1;32m   1092\u001b[0m \u001b[0;34m\u001b[0m\u001b[0m\n\u001b[1;32m   1093\u001b[0m     \u001b[0;32mdef\u001b[0m \u001b[0mon_train_batch_end\u001b[0m\u001b[0;34m(\u001b[0m\u001b[0mself\u001b[0m\u001b[0;34m,\u001b[0m \u001b[0mbatch\u001b[0m\u001b[0;34m,\u001b[0m \u001b[0mlogs\u001b[0m\u001b[0;34m=\u001b[0m\u001b[0;32mNone\u001b[0m\u001b[0;34m)\u001b[0m\u001b[0;34m:\u001b[0m\u001b[0;34m\u001b[0m\u001b[0;34m\u001b[0m\u001b[0m\n\u001b[0;32m-> 1094\u001b[0;31m         \u001b[0mself\u001b[0m\u001b[0;34m.\u001b[0m\u001b[0m_batch_update_progbar\u001b[0m\u001b[0;34m(\u001b[0m\u001b[0mbatch\u001b[0m\u001b[0;34m,\u001b[0m \u001b[0mlogs\u001b[0m\u001b[0;34m)\u001b[0m\u001b[0;34m\u001b[0m\u001b[0;34m\u001b[0m\u001b[0m\n\u001b[0m\u001b[1;32m   1095\u001b[0m \u001b[0;34m\u001b[0m\u001b[0m\n\u001b[1;32m   1096\u001b[0m     \u001b[0;32mdef\u001b[0m \u001b[0mon_test_batch_end\u001b[0m\u001b[0;34m(\u001b[0m\u001b[0mself\u001b[0m\u001b[0;34m,\u001b[0m \u001b[0mbatch\u001b[0m\u001b[0;34m,\u001b[0m \u001b[0mlogs\u001b[0m\u001b[0;34m=\u001b[0m\u001b[0;32mNone\u001b[0m\u001b[0;34m)\u001b[0m\u001b[0;34m:\u001b[0m\u001b[0;34m\u001b[0m\u001b[0;34m\u001b[0m\u001b[0m\n",
      "\u001b[0;32m~/miniforge3/envs/deepstarr/lib/python3.7/site-packages/keras/callbacks.py\u001b[0m in \u001b[0;36m_batch_update_progbar\u001b[0;34m(self, batch, logs)\u001b[0m\n\u001b[1;32m   1168\u001b[0m         \u001b[0;32mif\u001b[0m \u001b[0mself\u001b[0m\u001b[0;34m.\u001b[0m\u001b[0mverbose\u001b[0m \u001b[0;34m==\u001b[0m \u001b[0;36m1\u001b[0m\u001b[0;34m:\u001b[0m\u001b[0;34m\u001b[0m\u001b[0;34m\u001b[0m\u001b[0m\n\u001b[1;32m   1169\u001b[0m             \u001b[0;31m# Only block async when verbose = 1.\u001b[0m\u001b[0;34m\u001b[0m\u001b[0;34m\u001b[0m\u001b[0;34m\u001b[0m\u001b[0m\n\u001b[0;32m-> 1170\u001b[0;31m             \u001b[0mlogs\u001b[0m \u001b[0;34m=\u001b[0m \u001b[0mtf_utils\u001b[0m\u001b[0;34m.\u001b[0m\u001b[0msync_to_numpy_or_python_type\u001b[0m\u001b[0;34m(\u001b[0m\u001b[0mlogs\u001b[0m\u001b[0;34m)\u001b[0m\u001b[0;34m\u001b[0m\u001b[0;34m\u001b[0m\u001b[0m\n\u001b[0m\u001b[1;32m   1171\u001b[0m             \u001b[0mself\u001b[0m\u001b[0;34m.\u001b[0m\u001b[0mprogbar\u001b[0m\u001b[0;34m.\u001b[0m\u001b[0mupdate\u001b[0m\u001b[0;34m(\u001b[0m\u001b[0mself\u001b[0m\u001b[0;34m.\u001b[0m\u001b[0mseen\u001b[0m\u001b[0;34m,\u001b[0m \u001b[0mlist\u001b[0m\u001b[0;34m(\u001b[0m\u001b[0mlogs\u001b[0m\u001b[0;34m.\u001b[0m\u001b[0mitems\u001b[0m\u001b[0;34m(\u001b[0m\u001b[0;34m)\u001b[0m\u001b[0;34m)\u001b[0m\u001b[0;34m,\u001b[0m \u001b[0mfinalize\u001b[0m\u001b[0;34m=\u001b[0m\u001b[0;32mFalse\u001b[0m\u001b[0;34m)\u001b[0m\u001b[0;34m\u001b[0m\u001b[0;34m\u001b[0m\u001b[0m\n\u001b[1;32m   1172\u001b[0m \u001b[0;34m\u001b[0m\u001b[0m\n",
      "\u001b[0;32m~/miniforge3/envs/deepstarr/lib/python3.7/site-packages/keras/utils/tf_utils.py\u001b[0m in \u001b[0;36msync_to_numpy_or_python_type\u001b[0;34m(tensors)\u001b[0m\n\u001b[1;32m    663\u001b[0m         \u001b[0;32mreturn\u001b[0m \u001b[0mt\u001b[0m\u001b[0;34m.\u001b[0m\u001b[0mitem\u001b[0m\u001b[0;34m(\u001b[0m\u001b[0;34m)\u001b[0m \u001b[0;32mif\u001b[0m \u001b[0mnp\u001b[0m\u001b[0;34m.\u001b[0m\u001b[0mndim\u001b[0m\u001b[0;34m(\u001b[0m\u001b[0mt\u001b[0m\u001b[0;34m)\u001b[0m \u001b[0;34m==\u001b[0m \u001b[0;36m0\u001b[0m \u001b[0;32melse\u001b[0m \u001b[0mt\u001b[0m\u001b[0;34m\u001b[0m\u001b[0;34m\u001b[0m\u001b[0m\n\u001b[1;32m    664\u001b[0m \u001b[0;34m\u001b[0m\u001b[0m\n\u001b[0;32m--> 665\u001b[0;31m     \u001b[0;32mreturn\u001b[0m \u001b[0mtf\u001b[0m\u001b[0;34m.\u001b[0m\u001b[0mnest\u001b[0m\u001b[0;34m.\u001b[0m\u001b[0mmap_structure\u001b[0m\u001b[0;34m(\u001b[0m\u001b[0m_to_single_numpy_or_python_type\u001b[0m\u001b[0;34m,\u001b[0m \u001b[0mtensors\u001b[0m\u001b[0;34m)\u001b[0m\u001b[0;34m\u001b[0m\u001b[0;34m\u001b[0m\u001b[0m\n\u001b[0m\u001b[1;32m    666\u001b[0m \u001b[0;34m\u001b[0m\u001b[0m\n\u001b[1;32m    667\u001b[0m \u001b[0;34m\u001b[0m\u001b[0m\n",
      "\u001b[0;32m~/miniforge3/envs/deepstarr/lib/python3.7/site-packages/tensorflow/python/util/nest.py\u001b[0m in \u001b[0;36mmap_structure\u001b[0;34m(func, *structure, **kwargs)\u001b[0m\n\u001b[1;32m    915\u001b[0m \u001b[0;34m\u001b[0m\u001b[0m\n\u001b[1;32m    916\u001b[0m   return pack_sequence_as(\n\u001b[0;32m--> 917\u001b[0;31m       \u001b[0mstructure\u001b[0m\u001b[0;34m[\u001b[0m\u001b[0;36m0\u001b[0m\u001b[0;34m]\u001b[0m\u001b[0;34m,\u001b[0m \u001b[0;34m[\u001b[0m\u001b[0mfunc\u001b[0m\u001b[0;34m(\u001b[0m\u001b[0;34m*\u001b[0m\u001b[0mx\u001b[0m\u001b[0;34m)\u001b[0m \u001b[0;32mfor\u001b[0m \u001b[0mx\u001b[0m \u001b[0;32min\u001b[0m \u001b[0mentries\u001b[0m\u001b[0;34m]\u001b[0m\u001b[0;34m,\u001b[0m\u001b[0;34m\u001b[0m\u001b[0;34m\u001b[0m\u001b[0m\n\u001b[0m\u001b[1;32m    918\u001b[0m       expand_composites=expand_composites)\n\u001b[1;32m    919\u001b[0m \u001b[0;34m\u001b[0m\u001b[0m\n",
      "\u001b[0;32m~/miniforge3/envs/deepstarr/lib/python3.7/site-packages/tensorflow/python/util/nest.py\u001b[0m in \u001b[0;36m<listcomp>\u001b[0;34m(.0)\u001b[0m\n\u001b[1;32m    915\u001b[0m \u001b[0;34m\u001b[0m\u001b[0m\n\u001b[1;32m    916\u001b[0m   return pack_sequence_as(\n\u001b[0;32m--> 917\u001b[0;31m       \u001b[0mstructure\u001b[0m\u001b[0;34m[\u001b[0m\u001b[0;36m0\u001b[0m\u001b[0;34m]\u001b[0m\u001b[0;34m,\u001b[0m \u001b[0;34m[\u001b[0m\u001b[0mfunc\u001b[0m\u001b[0;34m(\u001b[0m\u001b[0;34m*\u001b[0m\u001b[0mx\u001b[0m\u001b[0;34m)\u001b[0m \u001b[0;32mfor\u001b[0m \u001b[0mx\u001b[0m \u001b[0;32min\u001b[0m \u001b[0mentries\u001b[0m\u001b[0;34m]\u001b[0m\u001b[0;34m,\u001b[0m\u001b[0;34m\u001b[0m\u001b[0;34m\u001b[0m\u001b[0m\n\u001b[0m\u001b[1;32m    918\u001b[0m       expand_composites=expand_composites)\n\u001b[1;32m    919\u001b[0m \u001b[0;34m\u001b[0m\u001b[0m\n",
      "\u001b[0;32m~/miniforge3/envs/deepstarr/lib/python3.7/site-packages/keras/utils/tf_utils.py\u001b[0m in \u001b[0;36m_to_single_numpy_or_python_type\u001b[0;34m(t)\u001b[0m\n\u001b[1;32m    656\u001b[0m         \u001b[0;31m# Don't turn ragged or sparse tensors to NumPy.\u001b[0m\u001b[0;34m\u001b[0m\u001b[0;34m\u001b[0m\u001b[0;34m\u001b[0m\u001b[0m\n\u001b[1;32m    657\u001b[0m         \u001b[0;32mif\u001b[0m \u001b[0misinstance\u001b[0m\u001b[0;34m(\u001b[0m\u001b[0mt\u001b[0m\u001b[0;34m,\u001b[0m \u001b[0mtf\u001b[0m\u001b[0;34m.\u001b[0m\u001b[0mTensor\u001b[0m\u001b[0;34m)\u001b[0m\u001b[0;34m:\u001b[0m\u001b[0;34m\u001b[0m\u001b[0;34m\u001b[0m\u001b[0m\n\u001b[0;32m--> 658\u001b[0;31m             \u001b[0mt\u001b[0m \u001b[0;34m=\u001b[0m \u001b[0mt\u001b[0m\u001b[0;34m.\u001b[0m\u001b[0mnumpy\u001b[0m\u001b[0;34m(\u001b[0m\u001b[0;34m)\u001b[0m\u001b[0;34m\u001b[0m\u001b[0;34m\u001b[0m\u001b[0m\n\u001b[0m\u001b[1;32m    659\u001b[0m         \u001b[0;31m# Strings, ragged and sparse tensors don't have .item(). Return them\u001b[0m\u001b[0;34m\u001b[0m\u001b[0;34m\u001b[0m\u001b[0;34m\u001b[0m\u001b[0m\n\u001b[1;32m    660\u001b[0m         \u001b[0;31m# as-is.\u001b[0m\u001b[0;34m\u001b[0m\u001b[0;34m\u001b[0m\u001b[0;34m\u001b[0m\u001b[0m\n",
      "\u001b[0;32m~/miniforge3/envs/deepstarr/lib/python3.7/site-packages/tensorflow/python/framework/ops.py\u001b[0m in \u001b[0;36mnumpy\u001b[0;34m(self)\u001b[0m\n\u001b[1;32m   1153\u001b[0m     \"\"\"\n\u001b[1;32m   1154\u001b[0m     \u001b[0;31m# TODO(slebedev): Consider avoiding a copy for non-CPU or remote tensors.\u001b[0m\u001b[0;34m\u001b[0m\u001b[0;34m\u001b[0m\u001b[0;34m\u001b[0m\u001b[0m\n\u001b[0;32m-> 1155\u001b[0;31m     \u001b[0mmaybe_arr\u001b[0m \u001b[0;34m=\u001b[0m \u001b[0mself\u001b[0m\u001b[0;34m.\u001b[0m\u001b[0m_numpy\u001b[0m\u001b[0;34m(\u001b[0m\u001b[0;34m)\u001b[0m  \u001b[0;31m# pylint: disable=protected-access\u001b[0m\u001b[0;34m\u001b[0m\u001b[0;34m\u001b[0m\u001b[0m\n\u001b[0m\u001b[1;32m   1156\u001b[0m     \u001b[0;32mreturn\u001b[0m \u001b[0mmaybe_arr\u001b[0m\u001b[0;34m.\u001b[0m\u001b[0mcopy\u001b[0m\u001b[0;34m(\u001b[0m\u001b[0;34m)\u001b[0m \u001b[0;32mif\u001b[0m \u001b[0misinstance\u001b[0m\u001b[0;34m(\u001b[0m\u001b[0mmaybe_arr\u001b[0m\u001b[0;34m,\u001b[0m \u001b[0mnp\u001b[0m\u001b[0;34m.\u001b[0m\u001b[0mndarray\u001b[0m\u001b[0;34m)\u001b[0m \u001b[0;32melse\u001b[0m \u001b[0mmaybe_arr\u001b[0m\u001b[0;34m\u001b[0m\u001b[0;34m\u001b[0m\u001b[0m\n\u001b[1;32m   1157\u001b[0m \u001b[0;34m\u001b[0m\u001b[0m\n",
      "\u001b[0;32m~/miniforge3/envs/deepstarr/lib/python3.7/site-packages/tensorflow/python/framework/ops.py\u001b[0m in \u001b[0;36m_numpy\u001b[0;34m(self)\u001b[0m\n\u001b[1;32m   1119\u001b[0m   \u001b[0;32mdef\u001b[0m \u001b[0m_numpy\u001b[0m\u001b[0;34m(\u001b[0m\u001b[0mself\u001b[0m\u001b[0;34m)\u001b[0m\u001b[0;34m:\u001b[0m\u001b[0;34m\u001b[0m\u001b[0;34m\u001b[0m\u001b[0m\n\u001b[1;32m   1120\u001b[0m     \u001b[0;32mtry\u001b[0m\u001b[0;34m:\u001b[0m\u001b[0;34m\u001b[0m\u001b[0;34m\u001b[0m\u001b[0m\n\u001b[0;32m-> 1121\u001b[0;31m       \u001b[0;32mreturn\u001b[0m \u001b[0mself\u001b[0m\u001b[0;34m.\u001b[0m\u001b[0m_numpy_internal\u001b[0m\u001b[0;34m(\u001b[0m\u001b[0;34m)\u001b[0m\u001b[0;34m\u001b[0m\u001b[0;34m\u001b[0m\u001b[0m\n\u001b[0m\u001b[1;32m   1122\u001b[0m     \u001b[0;32mexcept\u001b[0m \u001b[0mcore\u001b[0m\u001b[0;34m.\u001b[0m\u001b[0m_NotOkStatusException\u001b[0m \u001b[0;32mas\u001b[0m \u001b[0me\u001b[0m\u001b[0;34m:\u001b[0m  \u001b[0;31m# pylint: disable=protected-access\u001b[0m\u001b[0;34m\u001b[0m\u001b[0;34m\u001b[0m\u001b[0m\n\u001b[1;32m   1123\u001b[0m       \u001b[0;32mraise\u001b[0m \u001b[0mcore\u001b[0m\u001b[0;34m.\u001b[0m\u001b[0m_status_to_exception\u001b[0m\u001b[0;34m(\u001b[0m\u001b[0me\u001b[0m\u001b[0;34m)\u001b[0m \u001b[0;32mfrom\u001b[0m \u001b[0;32mNone\u001b[0m  \u001b[0;31m# pylint: disable=protected-access\u001b[0m\u001b[0;34m\u001b[0m\u001b[0;34m\u001b[0m\u001b[0m\n",
      "\u001b[0;31mKeyboardInterrupt\u001b[0m: "
     ]
    }
   ],
   "source": [
    "model = model_2\n",
    "\n",
    "optimizer = tf.keras.optimizers.Adam(learning_rate=0.001)\n",
    "loss = 'mse'\n",
    "# metrics = [utils.Spearman, utils.pearson_r]\n",
    "model.compile(optimizer=optimizer, loss=loss)\n",
    "\n",
    "\n",
    "history = model.fit(\n",
    "            x_train, y_train,\n",
    "            epochs=1,\n",
    "            batch_size=64, # need to explore which batch size is possible! (64 for citra)\n",
    "            shuffle=True,\n",
    ")\n"
   ]
  },
  {
   "cell_type": "code",
   "execution_count": 17,
   "id": "3beeac03",
   "metadata": {},
   "outputs": [
    {
     "data": {
      "text/plain": [
       "64"
      ]
     },
     "execution_count": 17,
     "metadata": {},
     "output_type": "execute_result"
    }
   ],
   "source": [
    "python execute_hominin.py --config_file=/home/chandana/temp/config.yaml --dataset_name=deepstarr --smoke_test=True  --log_wandb=False --gpu=1"
   ]
  },
  {
   "cell_type": "code",
   "execution_count": 41,
   "id": "0f819b3c",
   "metadata": {},
   "outputs": [],
   "source": [
    "output_1 = model_1(sample)"
   ]
  },
  {
   "cell_type": "code",
   "execution_count": 42,
   "id": "ff5dd4b0",
   "metadata": {},
   "outputs": [],
   "source": [
    "output_2 = model_2(sample)"
   ]
  },
  {
   "cell_type": "code",
   "execution_count": 43,
   "id": "c4204626",
   "metadata": {},
   "outputs": [
    {
     "data": {
      "text/plain": [
       "(TensorShape([1, 2]), TensorShape([1, 2]))"
      ]
     },
     "execution_count": 43,
     "metadata": {},
     "output_type": "execute_result"
    }
   ],
   "source": [
    "output_1.shape, output_2.shape"
   ]
  },
  {
   "cell_type": "code",
   "execution_count": null,
   "id": "9b799849",
   "metadata": {},
   "outputs": [],
   "source": [
    "layer"
   ]
  }
 ],
 "metadata": {
  "kernelspec": {
   "display_name": "Python 3 (ipykernel)",
   "language": "python",
   "name": "python3"
  },
  "language_info": {
   "codemirror_mode": {
    "name": "ipython",
    "version": 3
   },
   "file_extension": ".py",
   "mimetype": "text/x-python",
   "name": "python",
   "nbconvert_exporter": "python",
   "pygments_lexer": "ipython3",
   "version": "3.7.12"
  }
 },
 "nbformat": 4,
 "nbformat_minor": 5
}

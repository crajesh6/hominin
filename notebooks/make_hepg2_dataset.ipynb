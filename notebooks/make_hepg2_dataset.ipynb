{
 "cells": [
  {
   "cell_type": "code",
   "execution_count": 2,
   "id": "9e048099",
   "metadata": {},
   "outputs": [],
   "source": [
    "import h5py\n",
    "import numpy as np"
   ]
  },
  {
   "cell_type": "code",
   "execution_count": 3,
   "id": "77a15223",
   "metadata": {},
   "outputs": [],
   "source": [
    "def data_splits(N, test_split, valid_split, rnd_seed):\n",
    "  train_split = 1 - test_split - valid_split\n",
    "  shuffle = np.random.permutation(range(N))\n",
    "  num_valid = int(valid_split * N)\n",
    "  num_test = int(test_split * N)\n",
    "  test_index = shuffle[:num_test]\n",
    "  valid_index = shuffle[num_test:num_test + num_valid]\n",
    "  train_index = shuffle[num_test + num_valid:]\n",
    "  return train_index, valid_index, test_index"
   ]
  },
  {
   "cell_type": "code",
   "execution_count": 12,
   "id": "39eefdd1",
   "metadata": {},
   "outputs": [
    {
     "name": "stdout",
     "output_type": "stream",
     "text": [
      "Shape of x_data: (139877, 230, 4)!\n"
     ]
    }
   ],
   "source": [
    "filepath = '/home/chandana/projects/hominin/data/HepG2_onehot.h5'\n",
    "\n",
    "dataset = h5py.File(filepath, 'r')\n",
    "x_data = dataset['onehot'][:]\n",
    "x_data = np.swapaxes(x_data, 1, 2)\n",
    "y_data = dataset['target'][:]\n",
    "y_data = np.expand_dims(dataset['target'], axis=1)\n",
    "\n",
    "N, L, A = x_data.shape\n",
    "print(f\"Shape of x_data: {N, L, A}!\")\n",
    "\n",
    "train_index, valid_index, test_index = data_splits(N, test_split=0.2, valid_split=0.1, rnd_seed=12345)\n",
    "x_train = x_data[train_index]\n",
    "y_train = y_data[train_index]\n",
    "x_valid = x_data[valid_index]\n",
    "y_valid = y_data[valid_index]\n",
    "x_test = x_data[test_index]\n",
    "y_test = y_data[test_index]"
   ]
  },
  {
   "cell_type": "code",
   "execution_count": 15,
   "id": "51e32e77",
   "metadata": {},
   "outputs": [],
   "source": [
    "# data_path = \"/home/chandana/projects/hominin/data/HepG2_onehot_static.h5\"\n",
    "# with h5py.File(data_path, \"w\") as f:\n",
    "#     dset = f.create_dataset(\"x_train\", data=x_train, dtype='float32')\n",
    "#     dset = f.create_dataset(\"y_train\", data=y_train, dtype='float32')\n",
    "#     dset = f.create_dataset(\"x_test\", data=x_test, dtype='float32')\n",
    "#     dset = f.create_dataset(\"y_test\", data=y_test, dtype='float32')\n",
    "#     dset = f.create_dataset(\"x_valid\", data=x_valid, dtype='float32')\n",
    "#     dset = f.create_dataset(\"y_valid\", data=y_valid, dtype='float32')"
   ]
  },
  {
   "cell_type": "code",
   "execution_count": null,
   "id": "943d4771",
   "metadata": {},
   "outputs": [],
   "source": []
  }
 ],
 "metadata": {
  "kernelspec": {
   "display_name": "Python 3 (ipykernel)",
   "language": "python",
   "name": "python3"
  },
  "language_info": {
   "codemirror_mode": {
    "name": "ipython",
    "version": 3
   },
   "file_extension": ".py",
   "mimetype": "text/x-python",
   "name": "python",
   "nbconvert_exporter": "python",
   "pygments_lexer": "ipython3",
   "version": "3.7.12"
  }
 },
 "nbformat": 4,
 "nbformat_minor": 5
}
